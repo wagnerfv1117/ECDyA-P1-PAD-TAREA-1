{
 "cells": [
  {
   "cell_type": "markdown",
   "metadata": {},
   "source": [
    "<h1><center>PORTADA</h1>"
   ]
  },
  {
   "cell_type": "markdown",
   "metadata": {},
   "source": [
    "<h4>\n",
    "<center>\n",
    "    <h4>Ejercicio 2: Arreglos, vectores, matices y operadores</h4>\n",
    "<h4>\n",
    "Curso: Programación para el Analisis de datos<br>\n",
    "Tarea: Principios básicos de programación científica<br>\n",
    "Presentado por: Wagner Alonso Fernández Villalobos<br>\n",
    "Grupo: 203008069_14<br>\n",
    "Código:203008069A_1702<br>\n",
    "Presentado a: Jose Laureano Cruz Cardozo<br>\n",
    "Universidad: Universidad Nacional Abierta y a Distancia – UNAD<br>\n",
    "Fecha: 24/04/2024<br>\n",
    "<h/4>\n",
    "</center>"
   ]
  },
  {
   "cell_type": "markdown",
   "metadata": {},
   "source": [
    "<h1><center>DESARROLLO</h1>"
   ]
  },
  {
   "cell_type": "markdown",
   "metadata": {},
   "source": [
    "<h2><Center>Importar paquetes o librerías</h2>"
   ]
  },
  {
   "cell_type": "markdown",
   "metadata": {},
   "source": [
    "**Nota**: *Se procede con importar las librerías necesarias para responder a los interrogantes, sin ellas no funcionarían los códigos:*\n",
    "\n",
    "* La librería Numpy para el procesamiento y/o cálculo de matrices y vectores dimensonales y multidimensionales - https://numpy.org/\n",
    "* Se importa el modulo linalg para realizar operaciones de algebra lineal - https://numpy.org/doc/stable/reference/routines.linalg.html"
   ]
  },
  {
   "cell_type": "code",
   "execution_count": 8,
   "metadata": {},
   "outputs": [],
   "source": [
    "import numpy as np\n",
    "from numpy import linalg as LA"
   ]
  },
  {
   "cell_type": "markdown",
   "metadata": {},
   "source": [
    "<h2><Center>Respuesta a los interrogantes</h2>"
   ]
  },
  {
   "cell_type": "markdown",
   "metadata": {},
   "source": [
    "<h3><left>1- Construya la siguiente matriz como un arreglo de numpy:</h3>"
   ]
  },
  {
   "cell_type": "markdown",
   "metadata": {},
   "source": [
    "\n",
    "\n",
    "\\[ A = \n",
    "\\begin{bmatrix} \n",
    "13 & 1 \\\\ \n",
    "14 & 1 \\\\ \n",
    "15 & 1 \\\\ \n",
    "16 & 1 \\\\ \n",
    "17 & 1 \\\\ \n",
    "18 & 1 \\end{bmatrix} \n",
    "\\]\n",
    "\n",
    "\n"
   ]
  },
  {
   "cell_type": "markdown",
   "metadata": {},
   "source": [
    "Escritura del código:"
   ]
  },
  {
   "cell_type": "code",
   "execution_count": 9,
   "metadata": {},
   "outputs": [
    {
     "name": "stdout",
     "output_type": "stream",
     "text": [
      "Impresión de la matríz A:\n",
      "\n",
      "[[13  1]\n",
      " [14  1]\n",
      " [15  1]\n",
      " [16  1]\n",
      " [17  1]\n",
      " [18  1]]\n"
     ]
    }
   ],
   "source": [
    "#se crea la matriz llamada A\n",
    "A = np.array([[13, 1],\n",
    "              [14, 1],\n",
    "              [15, 1],\n",
    "              [16, 1],\n",
    "              [17, 1],\n",
    "              [18, 1]])\n",
    "\n",
    "print('Impresión de la matríz A:')# impresión de la matríz elaborada con Numpy\n",
    "print(\"\")\n",
    "print(A)\n"
   ]
  },
  {
   "cell_type": "markdown",
   "metadata": {},
   "source": [
    "El código anterior, desglosa lo siguiente conforme a lo consultado en el libro de McKinney (2023, pp. 121-126):\n",
    "\n",
    "* Se crea una matriz bidimensional llamada A utilizando la función array de NumPy.\n",
    "* La matriz, tiene dimensiones de 6 filas y 2 columnas.\n",
    "* Cada fila es representada con los respectivos valores que pide el ejercicio.\n",
    "* Luego se crea la función para imprimir la variable A que almacena el arreglo."
   ]
  },
  {
   "cell_type": "markdown",
   "metadata": {},
   "source": [
    "<h3><left>2- Construya el siguiente vector como arreglo de numpy:</h3>"
   ]
  },
  {
   "cell_type": "markdown",
   "metadata": {},
   "source": [
    "\\[ b = \n",
    "\n",
    "\\begin{bmatrix}16\\\\ \n",
    "24\\\\ \n",
    "45\\\\ \n",
    "57\\\\ \n",
    "75\\\\\n",
    "102\\\\\n",
    "\n",
    "\\end{bmatrix} \n",
    "\\]\n",
    "\n"
   ]
  },
  {
   "cell_type": "markdown",
   "metadata": {},
   "source": [
    "Escritura del código:"
   ]
  },
  {
   "cell_type": "code",
   "execution_count": 10,
   "metadata": {},
   "outputs": [
    {
     "name": "stdout",
     "output_type": "stream",
     "text": [
      "Impresión del vector b:\n",
      "\n",
      "[ 16  24  45  57  75 102]\n"
     ]
    }
   ],
   "source": [
    "\n",
    "b = np.array([# Creación del vector con sus valores \n",
    "    16,\n",
    "    24,\n",
    "    45,\n",
    "    57,\n",
    "    75,\n",
    "    102\n",
    "])\n",
    "\n",
    "\n",
    "print('Impresión del vector b:')# impresión de la matríz elaborada con Numpy\n",
    "print(\"\")\n",
    "print(b)#Impresión de la variable\n",
    "\n"
   ]
  },
  {
   "cell_type": "markdown",
   "metadata": {},
   "source": [
    "<p style=\"text-align: justify;\">El código anterior, desglosa lo siguiente, teniendo en cuenta lo consultado en el libro de (McKinney, 2023, p. 121):</p>\n",
    "\n",
    "* Se carga en una variable, el vector con sus respectivos datos.\n",
    "* Se carga la función llamada np.array  de la biblioteca NumPy en Python que se utiliza para crear el vector."
   ]
  },
  {
   "cell_type": "markdown",
   "metadata": {},
   "source": [
    "<h3><left>3- Calcule el siguiente vector x, usando operaciones de matrices (dot, transpose, inv) de numpy.linalg:</h3>\n",
    "\n",
    "\\begin{align*}\n",
    "x=(A^TA)^-1 A^Tb\\\\\n",
    "\\end{align*}\n",
    "\n",
    "<h3><left>y calcule ‖𝐴𝑥 − 𝑏‖ utilizando la función numpy.linalg.norm.</h3>"
   ]
  },
  {
   "cell_type": "markdown",
   "metadata": {},
   "source": [
    "Escritura del código:"
   ]
  },
  {
   "cell_type": "code",
   "execution_count": 11,
   "metadata": {},
   "outputs": [
    {
     "name": "stdout",
     "output_type": "stream",
     "text": [
      "El cálculo del vector de x es:\n",
      "[  17.         -210.33333333]\n",
      "\n",
      "El cálculo de Ax - b es:\n",
      "10.832051206181278\n"
     ]
    }
   ],
   "source": [
    "\n",
    "A_transpuesta = np.transpose(A)#calculo de A^T\n",
    "\n",
    "ATA = np.dot(A_transpuesta, A)#calculo A^T * A\n",
    "\n",
    "ATA_inv = np.linalg.inv(ATA)#calculo inversa de A^T * A\n",
    "\n",
    "ATb = np.dot(A_transpuesta, b)#calculo de A^T * b\n",
    "\n",
    "vector_x = np.dot(ATA_inv, ATb)# calculo de x\n",
    "\n",
    "Ax_menos_b = np.dot(A, vector_x) - b # calculo de Ax - b\n",
    "\n",
    "Ax_menos_b_norm = np.linalg.norm(Ax_menos_b)#calcular la norma de Ax - b\n",
    "\n",
    "##impresión de los resultados:\n",
    "print(\"El cálculo del vector de x es:\")\n",
    "print(vector_x)\n",
    "print(\"\")\n",
    "print(\"El cálculo de Ax - b es:\")\n",
    "print(Ax_menos_b_norm)\n",
    "\n"
   ]
  },
  {
   "cell_type": "markdown",
   "metadata": {},
   "source": [
    "<p style=\"text-align: justify;\">El código anterior, se desglosa lo siguiente conforme a lo consultado en el material de Madhavan (2015):</p>\n",
    "\n",
    "* <p style=\"text-align: justify;\">Se procede con calcular la matriz A transpuesta (A^T) utilizando el método A.T. ,consultado en la documentación de Numpy, se calcula el producto de A transpuesta por A (A^T * A) utilizando el método np.dot(A.T, A). \n",
    "* Después se calcula la inversa de (A^T * A) utilizando el método np.linalg.inv(). \n",
    "* Se procede con el producto de A transpuesta por b (A^T *b), utilizando el módulo np.dot(A.T, b). \n",
    "* Se calcula el vector x multiplicando la inversa de (A^T A) por (A^T b) utilizando np.do(ATA_inv, ATb); por último, se calcula la Ax-b utilizando np.linalg.norm(np.dot(A, x) - b); el vector x representa la solución del sistema de ecuaciones. </p>"
   ]
  },
  {
   "cell_type": "markdown",
   "metadata": {},
   "source": [
    "<h3><left>4- Solucione el siguiente sistema de ecuaciones, mediante la función numpy.linalg.solve (de ser necesario, investigue la función en la documentación de numpy):</h3>\n",
    "\n",
    "\\begin{align*}\n",
    "x=(A^TA)x= A^Tb\\\\\n",
    "\\end{align*}\n",
    "\n",
    "<h3><left>y calcule ‖𝐴𝑥 − 𝑏‖ utilizando la función numpy.linalg.norm.</h3>"
   ]
  },
  {
   "cell_type": "markdown",
   "metadata": {},
   "source": [
    "Escritura del código:"
   ]
  },
  {
   "cell_type": "code",
   "execution_count": 12,
   "metadata": {},
   "outputs": [
    {
     "name": "stdout",
     "output_type": "stream",
     "text": [
      "Solución la solución de x es:\n",
      "[  17.         -210.33333333]\n",
      "\n",
      "Cálculo de Ax - b es:\n",
      "10.832051206181278\n"
     ]
    }
   ],
   "source": [
    "ATA = np.dot(A.T, A)#calculo de A^T A\n",
    "ATb = np.dot(A.T, b)#calculo de A^T b\n",
    "\n",
    "\n",
    "x_solve = np.linalg.solve(ATA, ATb)#se procede con resolver el sistema de ecuaciones x=(A^TA)x=A^Tb\n",
    "\n",
    "\n",
    "Ax_menos_b = np.dot(A, x_solve) - b# calculo de Ax-b\n",
    "\n",
    "\n",
    "np_linalg_norm = np.linalg.norm(Ax_menos_b)#calculo de Ax - b\n",
    "\n",
    "# impresión de los resultados\n",
    "print(\"Solución la solución de x es:\")\n",
    "print(x_solve)\n",
    "print(\"\")\n",
    "print(\"Cálculo de Ax - b es:\")\n",
    "print(np_linalg_norm )\n"
   ]
  },
  {
   "cell_type": "markdown",
   "metadata": {},
   "source": [
    "<p style=\"text-align: justify;\">El código anterior, desglosa lo siguiente, interpretando lo consultado en el libro de Madhavan (2015):</p>\n",
    "\n",
    "* Hay que calcular producto de A transpuesta por A (A^T * A) utilizando np.dot(A.T, A).\n",
    "* Se calcula el producto de A transpuesta por b (A^T * b) utilizando np.dot(A.T, b).\n",
    "* Después se procede con la función np.linalg.solve, para resolver el sistema de ecuaciones (A^T A) x = (A^T * b) y poder obtener la solucion de x (x_solve).\n",
    "* Se calcula la norma de la diferencia entre Ax y b utilizando np.linalg.norm(np.dot(A, x) - b)."
   ]
  },
  {
   "cell_type": "markdown",
   "metadata": {},
   "source": [
    "<h3><left>5- Solucione el siguiente sistema de ecuaciones, mediante la función numpy.linalg.lstsq (de ser necesario, investigue la 5 función en la documentación de numpy): </h3>\n",
    "\n",
    "<h3><center>𝐴𝑥 = 𝑏</h3>\n",
    "\n",
    "\n",
    "<h3><left>y calcule ‖𝐴𝑥 − 𝑏‖ utilizando la función numpy.linalg.norm.</h3>\n"
   ]
  },
  {
   "cell_type": "markdown",
   "metadata": {},
   "source": [
    "Escritura del código:"
   ]
  },
  {
   "cell_type": "code",
   "execution_count": 13,
   "metadata": {},
   "outputs": [
    {
     "name": "stdout",
     "output_type": "stream",
     "text": [
      "La solución de x es:\n",
      "[  17.         -210.33333333]\n",
      "\n",
      "Cálculo de Ax - b es:\n",
      "10.832051206181276\n"
     ]
    }
   ],
   "source": [
    "\n",
    "x_lstsq, residuals, rank, singular_values = np.linalg.lstsq(A, b, rcond=None)#se resulve el sistema de ecuaciones aplicando el metodo el metodo lstsq\n",
    "\"\"\"https://numpy.org/doc/stable/reference/generated/numpy.linalg.lstsq.html\"\"\"\n",
    "\n",
    "\n",
    "np_linalg_lstsq = np.linalg.norm(np.dot(A, x_lstsq) - b)# Calcular la norma de Ax - b\n",
    "\n",
    "#impresión de los resultados\n",
    "print(\"La solución de x es:\")\n",
    "print(x_lstsq)\n",
    "print(\"\")\n",
    "print(\"Cálculo de Ax - b es:\")\n",
    "print(np_linalg_lstsq)\n"
   ]
  },
  {
   "cell_type": "markdown",
   "metadata": {},
   "source": [
    "<p style=\"text-align: justify;\">El código anterior, desglosa lo siguiente según lo consultado en el libro de Madhavan (2015):</p>\n",
    "\n",
    "* <p style=\"text-align: justify;\">Se utiliza la función numpy.linalg.lstsq, para resolver el sistema de ecuaciones lineales Ax = b. Esta función encuentra la solución x que minimiza la suma de los cuadrados.\n",
    "\n",
    "* La función (numpy.linalg.lstsq) devuelve los valores, en este caso, se guarda la solución x en la variable x,  los residuos en la variable residuals, el rango de la matriz A en la variable rank y los valores únicos de A en la variable singular_values.\n",
    "\n",
    "* Se procede con calcular Ax y b utilizando np.linalg.norm **(np.dot(A, x) - b)**. permitiendo evaluar los valores de la ecuación. \n",
    "\n",
    "* La función numpy.linalg.lstsq es útil cuando se tiene un sistema de ecuaciones y que quiere encontrar la solución que mejor se ajuste a los datos, en este caso es la matríz y el vector. </p>"
   ]
  },
  {
   "cell_type": "markdown",
   "metadata": {},
   "source": [
    "<h3><left>Comparación de resultados</h3>"
   ]
  },
  {
   "cell_type": "code",
   "execution_count": 14,
   "metadata": {},
   "outputs": [
    {
     "name": "stdout",
     "output_type": "stream",
     "text": [
      "============================\n",
      "Comparación de resultados:\n",
      "============================\n",
      "vector x= [  17.         -210.33333333]\n",
      "x_solve= [  17.         -210.33333333]\n",
      "x_lstsq= [  17.         -210.33333333]\n"
     ]
    }
   ],
   "source": [
    "print(\"============================\")\n",
    "print(\"Comparación de resultados:\")\n",
    "print(\"============================\")\n",
    "print(\"vector x=\", vector_x)\n",
    "print(\"x_solve=\", x_solve)\n",
    "print(\"x_lstsq=\", x_lstsq)"
   ]
  },
  {
   "cell_type": "markdown",
   "metadata": {},
   "source": [
    " <h1><center>ANALISIS DE LOS RESULTADOS</h1>"
   ]
  },
  {
   "cell_type": "markdown",
   "metadata": {},
   "source": [
    "De los resultados u _outputs_ que se arrojan al elaborar los codigos de software son los siguientes:"
   ]
  },
  {
   "cell_type": "markdown",
   "metadata": {},
   "source": [
    "\n",
    "* El resultado de x se nota igual en todas las operaciones desarrolladas."
   ]
  },
  {
   "cell_type": "markdown",
   "metadata": {},
   "source": [
    "* El resultado cambia al realizar las diferentes ecuaciones por cambio de simbolos o expresiones algebráicas como:\n",
    "\n",
    "\\begin{align*}\n",
    "x=(A^TA)^-1 A^Tb\\\\\n",
    "\\end{align*}\n",
    "\n",
    "\n",
    "\\begin{align*}\n",
    "x=(A^TA)x= A^Tb\\\\\n",
    "\\end{align*}\n",
    "\n",
    "\n",
    "<h3><center>𝐴𝑥 = 𝑏</h3>"
   ]
  },
  {
   "cell_type": "markdown",
   "metadata": {},
   "source": [
    "<h1><center>CONCLUSION</h1>"
   ]
  },
  {
   "cell_type": "markdown",
   "metadata": {},
   "source": [
    "<p style=\"text-align: justify;\">Consultando el material de Madhavan (2015), los arreglos, vectores, matrices y operadores matemáticos son herramientas fundamentales en el campo de las matemáticas y ciencia computacional, estos tipos de estructuras de datos permiten almacenar y manipular muchos conjuntos de datos de forma eficiente; estos vectores son arreglos utilizados en diversos contextos como la física, la ingeniería e informática y son parte de esa matemática que integran muchos sistemas Inteligencia Artificial y soluciones basadas en datos para la toma de decisiones.</p>"
   ]
  },
  {
   "cell_type": "markdown",
   "metadata": {},
   "source": [
    "<h1><center>BIBLIOGRAFÍA</h1>"
   ]
  },
  {
   "cell_type": "markdown",
   "metadata": {},
   "source": [
    "Linear algebra (numpy.linalg) — NumPy v1.26 Manual. (s. f.). https://numpy.org/doc/stable/reference/routines.linalg.html"
   ]
  },
  {
   "cell_type": "markdown",
   "metadata": {},
   "source": [
    "Madhavan, S. (2015). Mastering Python for Data Science. Packt Publishing Ltd. https://bibliotecavirtual.unad.edu.co/login?\n",
    "&nbsp;&nbsp;&nbsp;&nbsp;url=https://search.ebscohost.com/login.aspx?direct=true&db=nlebk&AN=1058787&lang=es&site=ehost-live&ebv=EB&ppid=pp_1"
   ]
  },
  {
   "cell_type": "markdown",
   "metadata": {},
   "source": [
    "McKinney, W. (2023). Python para análisis de datos. Comercial Grupo ANAYA, S.A."
   ]
  }
 ],
 "metadata": {
  "kernelspec": {
   "display_name": "Python 3",
   "language": "python",
   "name": "python3"
  },
  "language_info": {
   "codemirror_mode": {
    "name": "ipython",
    "version": 3
   },
   "file_extension": ".py",
   "mimetype": "text/x-python",
   "name": "python",
   "nbconvert_exporter": "python",
   "pygments_lexer": "ipython3",
   "version": "3.10.11"
  }
 },
 "nbformat": 4,
 "nbformat_minor": 2
}
